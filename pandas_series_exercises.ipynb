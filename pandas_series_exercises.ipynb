{
  "nbformat": 4,
  "nbformat_minor": 0,
  "metadata": {
    "colab": {
      "provenance": [],
      "authorship_tag": "ABX9TyOnkE4r+6PX5g/9arPhL19U",
      "include_colab_link": true
    },
    "kernelspec": {
      "name": "python3",
      "display_name": "Python 3"
    },
    "language_info": {
      "name": "python"
    }
  },
  "cells": [
    {
      "cell_type": "markdown",
      "metadata": {
        "id": "view-in-github",
        "colab_type": "text"
      },
      "source": [
        "<a href=\"https://colab.research.google.com/github/rinr2602/DA_pandas_series/blob/main/pandas_series_exercises.ipynb\" target=\"_parent\"><img src=\"https://colab.research.google.com/assets/colab-badge.svg\" alt=\"Open In Colab\"/></a>"
      ]
    },
    {
      "cell_type": "markdown",
      "source": [
        "# Pandas Series Exercises"
      ],
      "metadata": {
        "id": "UPs5uWwqM5KL"
      }
    },
    {
      "cell_type": "code",
      "execution_count": 27,
      "metadata": {
        "colab": {
          "base_uri": "https://localhost:8080/"
        },
        "id": "rjd7XEjdGf-1",
        "outputId": "fe12e373-8ee9-4451-905e-0815fc802287"
      },
      "outputs": [
        {
          "output_type": "stream",
          "name": "stdout",
          "text": [
            "1.5.3\n"
          ]
        }
      ],
      "source": [
        "# Import the numpy package under the name np\n",
        "import numpy as np\n",
        "\n",
        "# Import the pandas package under the name pd\n",
        "import pandas as pd\n",
        "\n",
        "# Print the pandas version and the configuration\n",
        "print(pd.__version__)"
      ]
    },
    {
      "cell_type": "markdown",
      "source": [
        "###Series Creation"
      ],
      "metadata": {
        "id": "mThqH3ngM0kD"
      }
    },
    {
      "cell_type": "code",
      "source": [
        "marks = pd.Series([70,80,45], index=['Physics','Chemistry','Mathematics'])\n",
        "marks"
      ],
      "metadata": {
        "id": "3lYoNENBM3L6",
        "colab": {
          "base_uri": "https://localhost:8080/"
        },
        "outputId": "777663ee-840f-4c4f-aa0b-84d21619f3bf"
      },
      "execution_count": 28,
      "outputs": [
        {
          "output_type": "execute_result",
          "data": {
            "text/plain": [
              "Physics        70\n",
              "Chemistry      80\n",
              "Mathematics    45\n",
              "dtype: int64"
            ]
          },
          "metadata": {},
          "execution_count": 28
        }
      ]
    },
    {
      "cell_type": "code",
      "source": [
        "X = ['a','b','c']\n",
        "print(X,type(X))\n",
        "Y = pd.Series(X)\n",
        "print(Y,type(Y))"
      ],
      "metadata": {
        "colab": {
          "base_uri": "https://localhost:8080/"
        },
        "id": "V5TY0YpzPSdz",
        "outputId": "a1ed2722-efce-44e1-bc37-c859949a03cb"
      },
      "execution_count": 29,
      "outputs": [
        {
          "output_type": "stream",
          "name": "stdout",
          "text": [
            "['a', 'b', 'c'] <class 'list'>\n",
            "0    a\n",
            "1    b\n",
            "2    c\n",
            "dtype: object <class 'pandas.core.series.Series'>\n"
          ]
        }
      ]
    },
    {
      "cell_type": "markdown",
      "source": [
        "### Given the X python list convert it to an Y pandas Series"
      ],
      "metadata": {
        "id": "Wl6yE_sIPkmA"
      }
    },
    {
      "cell_type": "code",
      "source": [
        "X = pd.Series(['a','b','c'])\n",
        "X\n",
        "X.name = 'My letters'\n",
        "X"
      ],
      "metadata": {
        "colab": {
          "base_uri": "https://localhost:8080/"
        },
        "id": "p5v71EVwPi-x",
        "outputId": "1deb018b-90b8-4afe-d1f7-5fd765aa030c"
      },
      "execution_count": 30,
      "outputs": [
        {
          "output_type": "execute_result",
          "data": {
            "text/plain": [
              "0    a\n",
              "1    b\n",
              "2    c\n",
              "Name: My letters, dtype: object"
            ]
          },
          "metadata": {},
          "execution_count": 30
        }
      ]
    },
    {
      "cell_type": "markdown",
      "source": [
        "### Given the X pandas Series, show its values"
      ],
      "metadata": {
        "id": "UzVMKivxQPn9"
      }
    },
    {
      "cell_type": "code",
      "source": [
        "X = pd.Series(['a','b','c'])\n",
        "X.values"
      ],
      "metadata": {
        "colab": {
          "base_uri": "https://localhost:8080/"
        },
        "id": "vJ2lEz1_QO1O",
        "outputId": "fb7b1f0c-29df-4658-fdc4-73b8ca53f92a"
      },
      "execution_count": 31,
      "outputs": [
        {
          "output_type": "execute_result",
          "data": {
            "text/plain": [
              "array(['a', 'b', 'c'], dtype=object)"
            ]
          },
          "metadata": {},
          "execution_count": 31
        }
      ]
    },
    {
      "cell_type": "markdown",
      "source": [
        "## Series indexation\n",
        "### Assign index names to the given marks pandas Series"
      ],
      "metadata": {
        "id": "FOnPKEQJQd1j"
      }
    },
    {
      "cell_type": "code",
      "source": [
        "marks = pd.Series([90,85,60])\n",
        "index_names = ['P','C','M']\n",
        "marks.index = index_names\n",
        "marks"
      ],
      "metadata": {
        "colab": {
          "base_uri": "https://localhost:8080/"
        },
        "id": "OL25hj2MQjMi",
        "outputId": "42ccd633-4bfd-4a7c-d772-e5add738741f"
      },
      "execution_count": 32,
      "outputs": [
        {
          "output_type": "execute_result",
          "data": {
            "text/plain": [
              "P    90\n",
              "C    85\n",
              "M    60\n",
              "dtype: int64"
            ]
          },
          "metadata": {},
          "execution_count": 32
        }
      ]
    },
    {
      "cell_type": "markdown",
      "source": [
        "### Given the marks pandas Series, show its first element"
      ],
      "metadata": {
        "id": "oG97s3B3Q6vd"
      }
    },
    {
      "cell_type": "code",
      "source": [
        "marks = pd.Series([90,85,60], index=['P','C','M'])\n",
        "marks\n",
        "marks[0]\n",
        "marks.iloc[0]\n",
        "marks['P']"
      ],
      "metadata": {
        "colab": {
          "base_uri": "https://localhost:8080/"
        },
        "id": "owP9xoEkQ925",
        "outputId": "51d52581-eb31-4010-d437-db4785598dc4"
      },
      "execution_count": 33,
      "outputs": [
        {
          "output_type": "execute_result",
          "data": {
            "text/plain": [
              "90"
            ]
          },
          "metadata": {},
          "execution_count": 33
        }
      ]
    },
    {
      "cell_type": "markdown",
      "source": [
        "### Given the marks pandas Series, show its last element"
      ],
      "metadata": {
        "id": "iTzLPuPuRUT-"
      }
    },
    {
      "cell_type": "code",
      "source": [
        "marks = pd.Series([90,85,60], index=['P','C','M'])\n",
        "marks[-1]\n",
        "marks.iloc[-1]\n",
        "marks['M']"
      ],
      "metadata": {
        "colab": {
          "base_uri": "https://localhost:8080/"
        },
        "id": "4yc7hMBLRX2f",
        "outputId": "a88dbf71-1f98-4eb8-df6c-b4a2aedfc64e"
      },
      "execution_count": 34,
      "outputs": [
        {
          "output_type": "execute_result",
          "data": {
            "text/plain": [
              "60"
            ]
          },
          "metadata": {},
          "execution_count": 34
        }
      ]
    },
    {
      "cell_type": "markdown",
      "source": [
        "###Given the X pandas Series, show all middle elements"
      ],
      "metadata": {
        "id": "9VW0rgmaRgZK"
      }
    },
    {
      "cell_type": "code",
      "source": [
        "X = pd.Series(['A','B','C','D','E'],\n",
        "              index=['first','second','third','forth','fifth'])\n",
        "X[1:-1]\n",
        "X.iloc[1:-1]\n",
        "# X['second','third',...and so on]"
      ],
      "metadata": {
        "colab": {
          "base_uri": "https://localhost:8080/"
        },
        "id": "bmuso95BRjsS",
        "outputId": "2703a9b1-9dcd-47d6-b8ed-357093f2ab83"
      },
      "execution_count": 35,
      "outputs": [
        {
          "output_type": "execute_result",
          "data": {
            "text/plain": [
              "second    B\n",
              "third     C\n",
              "forth     D\n",
              "dtype: object"
            ]
          },
          "metadata": {},
          "execution_count": 35
        }
      ]
    },
    {
      "cell_type": "markdown",
      "source": [
        "###Given the X pandas Series, show the elements in reverse position"
      ],
      "metadata": {
        "id": "quIZb0lgR_wt"
      }
    },
    {
      "cell_type": "code",
      "source": [
        "X = pd.Series(['A','B','C','D','E'],\n",
        "              index=['first','second','third','forth','fifth'])\n",
        "X[::-1]\n",
        "X.iloc[::-1]"
      ],
      "metadata": {
        "colab": {
          "base_uri": "https://localhost:8080/"
        },
        "id": "O9o7wJ8yR_FC",
        "outputId": "558ea9e2-a53a-4737-fd1a-ec0e6c5de016"
      },
      "execution_count": 36,
      "outputs": [
        {
          "output_type": "execute_result",
          "data": {
            "text/plain": [
              "fifth     E\n",
              "forth     D\n",
              "third     C\n",
              "second    B\n",
              "first     A\n",
              "dtype: object"
            ]
          },
          "metadata": {},
          "execution_count": 36
        }
      ]
    },
    {
      "cell_type": "markdown",
      "source": [
        "### Given the X pandas Series, show the first and last elements"
      ],
      "metadata": {
        "id": "r_xkGy6vSS1n"
      }
    },
    {
      "cell_type": "code",
      "source": [
        "X = pd.Series(['A','B','C','D','E'],\n",
        "              index=['first','second','third','forth','fifth'])\n",
        "X[[0,-1]]\n",
        "X.iloc[[0,-1]]"
      ],
      "metadata": {
        "colab": {
          "base_uri": "https://localhost:8080/"
        },
        "id": "TfuVzhyKSkN7",
        "outputId": "2d3d65b9-3269-4b79-cd35-6efdbd4d32ae"
      },
      "execution_count": 37,
      "outputs": [
        {
          "output_type": "execute_result",
          "data": {
            "text/plain": [
              "first    A\n",
              "fifth    E\n",
              "dtype: object"
            ]
          },
          "metadata": {},
          "execution_count": 37
        }
      ]
    },
    {
      "cell_type": "markdown",
      "source": [
        "## Series manipulation\n",
        "### Convert the given integer pandas Series to float"
      ],
      "metadata": {
        "id": "wwJAP26sSs7C"
      }
    },
    {
      "cell_type": "code",
      "source": [
        "X = pd.Series([1,2,3,4,5],\n",
        "              index=['first','second','third','forth','fifth'])\n",
        "pd.Series(X,dtype=float)"
      ],
      "metadata": {
        "colab": {
          "base_uri": "https://localhost:8080/"
        },
        "id": "Fu936LEuSx3-",
        "outputId": "03ac3c63-d1c0-4480-84c3-ff08240fe7a2"
      },
      "execution_count": 38,
      "outputs": [
        {
          "output_type": "execute_result",
          "data": {
            "text/plain": [
              "first     1.0\n",
              "second    2.0\n",
              "third     3.0\n",
              "forth     4.0\n",
              "fifth     5.0\n",
              "dtype: float64"
            ]
          },
          "metadata": {},
          "execution_count": 38
        }
      ]
    },
    {
      "cell_type": "markdown",
      "source": [
        "###Reverse the given pandas Series (first element becomes last)"
      ],
      "metadata": {
        "id": "XubZLMu3S9J1"
      }
    },
    {
      "cell_type": "code",
      "source": [
        "X = pd.Series([1,2,3,4,5],\n",
        "              index=['first','second','third','forth','fifth'])\n",
        "X[::-1]\n",
        "X.iloc[::-1]"
      ],
      "metadata": {
        "colab": {
          "base_uri": "https://localhost:8080/"
        },
        "id": "BmAPUdngS_0k",
        "outputId": "c49d736d-8107-4969-a774-37d142a53034"
      },
      "execution_count": 39,
      "outputs": [
        {
          "output_type": "execute_result",
          "data": {
            "text/plain": [
              "fifth     5\n",
              "forth     4\n",
              "third     3\n",
              "second    2\n",
              "first     1\n",
              "dtype: int64"
            ]
          },
          "metadata": {},
          "execution_count": 39
        }
      ]
    },
    {
      "cell_type": "markdown",
      "source": [
        "### Order (sort) the given pandas Series"
      ],
      "metadata": {
        "id": "XFPuvkr2TVw6"
      }
    },
    {
      "cell_type": "code",
      "source": [
        "X = pd.Series([4,2,5,1,3],\n",
        "              index=['forth','second','fifth','first','third'])\n",
        "X = X.sort_values()\n",
        "X"
      ],
      "metadata": {
        "colab": {
          "base_uri": "https://localhost:8080/"
        },
        "id": "W0Cl4ldLTZpp",
        "outputId": "5b3de8f8-99f9-48b5-9f8b-2eb296369622"
      },
      "execution_count": 40,
      "outputs": [
        {
          "output_type": "execute_result",
          "data": {
            "text/plain": [
              "first     1\n",
              "second    2\n",
              "third     3\n",
              "forth     4\n",
              "fifth     5\n",
              "dtype: int64"
            ]
          },
          "metadata": {},
          "execution_count": 40
        }
      ]
    },
    {
      "cell_type": "markdown",
      "source": [
        "### Given the X pandas Series, set the fifth element equal to 10"
      ],
      "metadata": {
        "id": "nwhQJaXEtHOK"
      }
    },
    {
      "cell_type": "code",
      "source": [
        "X = pd.Series([1,2,3,4,5],\n",
        "              index=['first','second','third','forth','fifth'])\n",
        "X[4] = 10\n",
        "X"
      ],
      "metadata": {
        "colab": {
          "base_uri": "https://localhost:8080/"
        },
        "id": "PJxKqFQTtJ6X",
        "outputId": "d1d5ae8b-c089-4f00-8313-60867c45ed29"
      },
      "execution_count": 41,
      "outputs": [
        {
          "output_type": "execute_result",
          "data": {
            "text/plain": [
              "first      1\n",
              "second     2\n",
              "third      3\n",
              "forth      4\n",
              "fifth     10\n",
              "dtype: int64"
            ]
          },
          "metadata": {},
          "execution_count": 41
        }
      ]
    },
    {
      "cell_type": "markdown",
      "source": [
        "### Given the X pandas Series, change all the middle elements to 0"
      ],
      "metadata": {
        "id": "cDulUdvztUXw"
      }
    },
    {
      "cell_type": "code",
      "source": [
        "X = pd.Series([1,2,3,4,5],\n",
        "              index=['A','B','C','D','E'])\n",
        "X[1:-1]=0\n",
        "X"
      ],
      "metadata": {
        "colab": {
          "base_uri": "https://localhost:8080/"
        },
        "id": "K1AAwZOzt7YR",
        "outputId": "7d0b4990-4abe-4086-a525-27b1f40eb2cd"
      },
      "execution_count": 42,
      "outputs": [
        {
          "output_type": "execute_result",
          "data": {
            "text/plain": [
              "A    1\n",
              "B    0\n",
              "C    0\n",
              "D    0\n",
              "E    5\n",
              "dtype: int64"
            ]
          },
          "metadata": {},
          "execution_count": 42
        }
      ]
    },
    {
      "cell_type": "markdown",
      "source": [
        "### Given the X pandas Series, add 5 to every element"
      ],
      "metadata": {
        "id": "K3pCdWUEua_l"
      }
    },
    {
      "cell_type": "code",
      "source": [
        "X = pd.Series([1,2,3,4,5])\n",
        "X+5"
      ],
      "metadata": {
        "colab": {
          "base_uri": "https://localhost:8080/"
        },
        "id": "VXponZdFukk4",
        "outputId": "85798790-b121-48fb-f610-60aba3ff9d18"
      },
      "execution_count": 43,
      "outputs": [
        {
          "output_type": "execute_result",
          "data": {
            "text/plain": [
              "0     6\n",
              "1     7\n",
              "2     8\n",
              "3     9\n",
              "4    10\n",
              "dtype: int64"
            ]
          },
          "metadata": {},
          "execution_count": 43
        }
      ]
    },
    {
      "cell_type": "markdown",
      "source": [
        "## Series Boolean Arrays\n",
        "\n",
        "### Given the X pandas Series, make a mask showing negative elements"
      ],
      "metadata": {
        "id": "Xitr1Pzaus1m"
      }
    },
    {
      "cell_type": "code",
      "source": [
        "X = pd.Series([-1,2,0,-4,5,6,0,0,-9,10])\n",
        "mask = X <= 0\n",
        "mask"
      ],
      "metadata": {
        "colab": {
          "base_uri": "https://localhost:8080/"
        },
        "id": "Go7equ9MuyNW",
        "outputId": "81394dd9-9df2-4092-8766-77602d5df902"
      },
      "execution_count": 44,
      "outputs": [
        {
          "output_type": "execute_result",
          "data": {
            "text/plain": [
              "0     True\n",
              "1    False\n",
              "2     True\n",
              "3     True\n",
              "4    False\n",
              "5    False\n",
              "6     True\n",
              "7     True\n",
              "8     True\n",
              "9    False\n",
              "dtype: bool"
            ]
          },
          "metadata": {},
          "execution_count": 44
        }
      ]
    },
    {
      "cell_type": "markdown",
      "source": [
        "### Given the X pandas Series, get the negative elements"
      ],
      "metadata": {
        "id": "SrdIRkQE1nfr"
      }
    },
    {
      "cell_type": "code",
      "source": [
        "X = pd.Series([-1,2,0,-4,5,6,0,0,-9,10])\n",
        "mask = X < 0\n",
        "X[mask]"
      ],
      "metadata": {
        "colab": {
          "base_uri": "https://localhost:8080/"
        },
        "id": "f-PLhSKk1m9u",
        "outputId": "0089df61-d2c0-43aa-bf2c-9eca86d38b2c"
      },
      "execution_count": 45,
      "outputs": [
        {
          "output_type": "execute_result",
          "data": {
            "text/plain": [
              "0   -1\n",
              "3   -4\n",
              "8   -9\n",
              "dtype: int64"
            ]
          },
          "metadata": {},
          "execution_count": 45
        }
      ]
    },
    {
      "cell_type": "markdown",
      "source": [
        "### Given the X pandas Series, get numbers higher than 5"
      ],
      "metadata": {
        "id": "7_kOjj3316zz"
      }
    },
    {
      "cell_type": "code",
      "source": [
        "X = pd.Series([-1,2,0,-4,5,6,0,0,-9,10])\n",
        "mask = X >5\n",
        "X[mask]"
      ],
      "metadata": {
        "colab": {
          "base_uri": "https://localhost:8080/"
        },
        "id": "WLuDrN9F19kb",
        "outputId": "73504de1-0e7a-43f4-add5-e313e5470c56"
      },
      "execution_count": 46,
      "outputs": [
        {
          "output_type": "execute_result",
          "data": {
            "text/plain": [
              "5     6\n",
              "9    10\n",
              "dtype: int64"
            ]
          },
          "metadata": {},
          "execution_count": 46
        }
      ]
    },
    {
      "cell_type": "markdown",
      "source": [
        "### Given the X pandas Series, get numbers higher than the elements mean"
      ],
      "metadata": {
        "id": "gSugOWeM2FbK"
      }
    },
    {
      "cell_type": "code",
      "source": [
        "X = pd.Series([-1,2,0,-4,5,6,0,0,-9,10])\n",
        "mean = X.mean()\n",
        "mask = X > mean\n",
        "X[mask]"
      ],
      "metadata": {
        "colab": {
          "base_uri": "https://localhost:8080/"
        },
        "id": "JOwqkgJ22IQS",
        "outputId": "22ea0a0f-8d2c-4041-8238-24530f931aa9"
      },
      "execution_count": 47,
      "outputs": [
        {
          "output_type": "execute_result",
          "data": {
            "text/plain": [
              "1     2\n",
              "4     5\n",
              "5     6\n",
              "9    10\n",
              "dtype: int64"
            ]
          },
          "metadata": {},
          "execution_count": 47
        }
      ]
    },
    {
      "cell_type": "markdown",
      "source": [
        "### Given the X pandas Series, get numbers equal to 2 or 10"
      ],
      "metadata": {
        "id": "WxabNGV82frK"
      }
    },
    {
      "cell_type": "code",
      "source": [
        "X = pd.Series([-1,2,0,-4,5,6,0,0,-9,10])\n",
        "mask = (X==2) | (X==10)\n",
        "X[mask]"
      ],
      "metadata": {
        "colab": {
          "base_uri": "https://localhost:8080/"
        },
        "id": "6M6RekTL2iFg",
        "outputId": "96f3e76a-48c6-4cc7-bbbd-acae59e66e96"
      },
      "execution_count": 48,
      "outputs": [
        {
          "output_type": "execute_result",
          "data": {
            "text/plain": [
              "1     2\n",
              "9    10\n",
              "dtype: int64"
            ]
          },
          "metadata": {},
          "execution_count": 48
        }
      ]
    },
    {
      "cell_type": "markdown",
      "source": [
        "## Logic Functions\n",
        "### Given the X pandas series, return True if none of the elements is zero"
      ],
      "metadata": {
        "id": "WnwPN1wZ9a3j"
      }
    },
    {
      "cell_type": "code",
      "source": [
        "X = pd.Series([-1,2,0,-4,5,6,0,0,-9,10])\n",
        "X.all()"
      ],
      "metadata": {
        "colab": {
          "base_uri": "https://localhost:8080/"
        },
        "id": "bkkb1Aoz9tOF",
        "outputId": "8ba640f5-db35-410d-cfd0-0750dd2259b7"
      },
      "execution_count": 54,
      "outputs": [
        {
          "output_type": "execute_result",
          "data": {
            "text/plain": [
              "False"
            ]
          },
          "metadata": {},
          "execution_count": 54
        }
      ]
    },
    {
      "cell_type": "markdown",
      "source": [
        "### Given the X pandas Series, return True if any of its elements is zero"
      ],
      "metadata": {
        "id": "iHQl6sqkSOkq"
      }
    },
    {
      "cell_type": "code",
      "source": [
        "X = pd.Series([-1,2,0,-4,5,6,0,0,-9,10])\n",
        "X.any()"
      ],
      "metadata": {
        "colab": {
          "base_uri": "https://localhost:8080/"
        },
        "id": "tFtY50HfSRCa",
        "outputId": "4ffe050f-4b4e-4a97-b45d-0a23fa64e6ec"
      },
      "execution_count": 55,
      "outputs": [
        {
          "output_type": "execute_result",
          "data": {
            "text/plain": [
              "True"
            ]
          },
          "metadata": {},
          "execution_count": 55
        }
      ]
    },
    {
      "cell_type": "markdown",
      "source": [
        "##Summary statistics\n",
        "###Given the X pandas Series, show the sum of its elements"
      ],
      "metadata": {
        "id": "9sLhAaLiSVkr"
      }
    },
    {
      "cell_type": "code",
      "source": [
        "X = pd.Series([3,5,6,7,2,3,4,9,4])\n",
        "X.sum()"
      ],
      "metadata": {
        "colab": {
          "base_uri": "https://localhost:8080/"
        },
        "id": "o2UQtVrWSiBq",
        "outputId": "442f1917-ca29-4471-e6b7-2127b51762a0"
      },
      "execution_count": 57,
      "outputs": [
        {
          "output_type": "execute_result",
          "data": {
            "text/plain": [
              "43"
            ]
          },
          "metadata": {},
          "execution_count": 57
        }
      ]
    },
    {
      "cell_type": "markdown",
      "source": [
        "###Given the X pandas Series, show the mean value of its elements"
      ],
      "metadata": {
        "id": "nbFVnqvhSpEV"
      }
    },
    {
      "cell_type": "code",
      "source": [
        "X = pd.Series([3,5,6,7,2,3,4,9,4])\n",
        "X.mean()"
      ],
      "metadata": {
        "colab": {
          "base_uri": "https://localhost:8080/"
        },
        "id": "E_gclmT1SrWw",
        "outputId": "035f2cb1-f7fa-43b0-e90f-e4cecb35bb35"
      },
      "execution_count": 58,
      "outputs": [
        {
          "output_type": "execute_result",
          "data": {
            "text/plain": [
              "4.777777777777778"
            ]
          },
          "metadata": {},
          "execution_count": 58
        }
      ]
    },
    {
      "cell_type": "markdown",
      "source": [
        "### Given the X pandas Series, show the max value of its elements"
      ],
      "metadata": {
        "id": "P6OpE2s9Su1i"
      }
    },
    {
      "cell_type": "code",
      "source": [
        "X = pd.Series([1,2,0,4,5,6,0,0,9,10])\n",
        "X.max()"
      ],
      "metadata": {
        "colab": {
          "base_uri": "https://localhost:8080/"
        },
        "id": "wle0j1T7SxON",
        "outputId": "34aa93ee-8b29-4322-a600-10dd4643cc67"
      },
      "execution_count": 59,
      "outputs": [
        {
          "output_type": "execute_result",
          "data": {
            "text/plain": [
              "10"
            ]
          },
          "metadata": {},
          "execution_count": 59
        }
      ]
    }
  ]
}